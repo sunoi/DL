{
 "cells": [
  {
   "cell_type": "code",
   "execution_count": 39,
   "metadata": {
    "collapsed": true,
    "pycharm": {
     "name": "#%%\n"
    }
   },
   "outputs": [
    {
     "name": "stdout",
     "output_type": "stream",
     "text": [
      "-inf -9998.901387711332\n",
      "inf 1000000000.0\n",
      "inf 8973.773702875636\n",
      "-inf -11955.116689668444\n"
     ]
    },
    {
     "name": "stderr",
     "output_type": "stream",
     "text": [
      "C:\\Users\\sz\\AppData\\Local\\Temp\\ipykernel_22252\\2966928161.py:12: RuntimeWarning: divide by zero encountered in log\n",
      "  return np.log(np.sum(np.exp(a)))\n",
      "C:\\Users\\sz\\AppData\\Local\\Temp\\ipykernel_22252\\2966928161.py:12: RuntimeWarning: overflow encountered in exp\n",
      "  return np.log(np.sum(np.exp(a)))\n"
     ]
    }
   ],
   "source": [
    "# problem 1\n",
    "\n",
    "import numpy as np\n",
    "\n",
    "test1 = np.array([-10000, -10000, -10000])\n",
    "test2 = np.array([1e9, 1e8, 1e7])\n",
    "test3 = np.random.rand(7) * 10000\n",
    "test4 = np.random.rand(10) *(-100000)\n",
    "\n",
    "# 原式结果\n",
    "def function1(a):\n",
    "    return np.log(np.sum(np.exp(a)))\n",
    "\n",
    "# 处理后的函数结果\n",
    "def function2(a):\n",
    "    M = np.max(a)\n",
    "    b = a - M\n",
    "    return np.log(np.sum(np.exp(b))) + M\n",
    "\n",
    "# 测试用例\n",
    "print(function1(test1), function2(test1))\n",
    "print(function1(test2), function2(test2))\n",
    "print(function1(test3), function2(test3))\n",
    "print(function1(test4), function2(test4))"
   ]
  },
  {
   "cell_type": "code",
   "execution_count": 48,
   "outputs": [],
   "source": [
    "import torch\n",
    "from torch import nn\n",
    "\n",
    "class CNN(nn.Module):\n",
    "    def __init__(self):\n",
    "        super(CNN, self).__init__()\n",
    "        self.conv1 = nn.Sequential(\n",
    "            nn.Conv2d(in_channels=3, out_channels=32, kernel_size=(9, 9), stride=1, padding=0, bias=True),\n",
    "            nn.ReLU(),\n",
    "            nn.MaxPool2d(kernel_size=2, stride=2)\n",
    "        )\n",
    "\n",
    "        self.conv2 = nn.Sequential(\n",
    "            nn.Conv2d(in_channels=32, out_channels=64, kernel_size=(5, 5), stride=1, padding=0, bias=True),\n",
    "            nn.ReLU(),\n",
    "            nn.MaxPool2d(kernel_size=2, stride=2)\n",
    "        )\n",
    "\n",
    "        self.conv3 = nn.Sequential(\n",
    "            nn.Conv2d(in_channels=64, out_channels=64, kernel_size=(5, 5), stride=1, padding=0, bias=True),\n",
    "            nn.ReLU(),\n",
    "            nn.MaxPool2d(kernel_size=2, stride=2)\n",
    "        )\n",
    "\n",
    "        self.flatten = nn.Flatten(start_dim=0, end_dim=-1)\n",
    "        self.fc = nn.Linear(56623104, 3)\n",
    "\n",
    "    def forward(self, x):\n",
    "        x = self.conv1(x)\n",
    "        x = self.conv2(x)\n",
    "        x = self.conv3(x)\n",
    "        x = self.flatten(x)\n",
    "        x = self.fc(x)\n",
    "        return x"
   ],
   "metadata": {
    "collapsed": false,
    "pycharm": {
     "name": "#%%\n"
    }
   }
  }
 ],
 "metadata": {
  "kernelspec": {
   "display_name": "Python 3",
   "language": "python",
   "name": "python3"
  },
  "language_info": {
   "codemirror_mode": {
    "name": "ipython",
    "version": 2
   },
   "file_extension": ".py",
   "mimetype": "text/x-python",
   "name": "python",
   "nbconvert_exporter": "python",
   "pygments_lexer": "ipython2",
   "version": "2.7.6"
  }
 },
 "nbformat": 4,
 "nbformat_minor": 0
}